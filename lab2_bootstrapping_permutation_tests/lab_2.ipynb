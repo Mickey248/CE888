{
  "nbformat": 4,
  "nbformat_minor": 0,
  "metadata": {
    "colab": {
      "name": "lab_2.ipynb",
      "provenance": [],
      "collapsed_sections": []
    },
    "kernelspec": {
      "name": "python3",
      "display_name": "Python 3"
    },
    "language_info": {
      "name": "python"
    }
  },
  "cells": [
    {
      "cell_type": "markdown",
      "source": [
        "#IMPORT LIBRARY"
      ],
      "metadata": {
        "id": "aqkLsnzyrAZe"
      }
    },
    {
      "cell_type": "markdown",
      "source": [
        "In this notebook you'll create your own bootstrap function following the bootstrap algorithm (check the lecture notes!)\n",
        "\n"
      ],
      "metadata": {
        "id": "-P0Gryd75Rs6"
      }
    },
    {
      "cell_type": "code",
      "execution_count": 1,
      "metadata": {
        "id": "lhr0FpPrp00G"
      },
      "outputs": [],
      "source": [
        "import matplotlib\n",
        "import pandas as pd\n",
        "import seaborn as sns\n",
        "import numpy as np"
      ]
    },
    {
      "cell_type": "code",
      "source": [
        "# Load the data\n",
        "df = pd.read_csv('https://raw.githubusercontent.com/albanda/CE888/master/lab2%20-%20bootstrap/customers.csv')\n",
        "all_data_customer = df.values.T[1]"
      ],
      "metadata": {
        "id": "gC6Ze6KAp305"
      },
      "execution_count": 2,
      "outputs": []
    },
    {
      "cell_type": "code",
      "source": [
        "print(df.shape)\n",
        "print(all_data_customer)"
      ],
      "metadata": {
        "colab": {
          "base_uri": "https://localhost:8080/"
        },
        "id": "gjB2mb7gRPPB",
        "outputId": "4db95e04-51e7-45d9-a7aa-766c488a74ef"
      },
      "execution_count": 3,
      "outputs": [
        {
          "output_type": "stream",
          "name": "stdout",
          "text": [
            "(14, 2)\n",
            "[ 2.  8. 20. 13.  5.  9. 10.  8. 22. 10.  2.  4.  7.  9.]\n"
          ]
        }
      ]
    },
    {
      "cell_type": "code",
      "source": [
        "sample_size = 10\n",
        "n_bootstraps = 5\n",
        "\n",
        "d_array = np.random.choice(all_data_customer,size=(n_bootstraps,sample_size))\n",
        "print(\"arrays -----\")\n",
        "print(d_array)\n",
        "print(d_array.shape[0])\n",
        "\n",
        "# d_mean_arr = d_array.nanmean(axis = 1)\n",
        "d_mean_arr = np.nanmean(d_array, axis=1)\n",
        "print(\"individual means - \")\n",
        "print(d_mean_arr)\n",
        "\n",
        "d_mean_arr = d_array.mean(axis=1)\n",
        "print(\"individual means - \")\n",
        "print(d_mean_arr)\n",
        "\n",
        "d_mean_arr_sort = np.sort(d_mean_arr)\n",
        "print(\"sorted array of means - \", d_mean_arr_sort)\n",
        "\n",
        "print(\"data mean - \", np.mean(d_mean_arr_sort))\n",
        "\n",
        "print(np.percentile(d_mean_arr_sort, 2.5),np.percentile(d_mean_arr_sort, 97.5))\n",
        "print(np.percentile(d_mean_arr_sort, 10),np.percentile(d_mean_arr_sort, 90.0))"
      ],
      "metadata": {
        "colab": {
          "base_uri": "https://localhost:8080/"
        },
        "id": "aFjdbGWrRVqd",
        "outputId": "5583e394-7f81-4f42-e64c-7a1fe3939dc7"
      },
      "execution_count": 4,
      "outputs": [
        {
          "output_type": "stream",
          "name": "stdout",
          "text": [
            "arrays -----\n",
            "[[ 5.  8. 22. 13. 22.  4.  8.  8. 10.  2.]\n",
            " [ 5.  9.  8. 13. 10.  5. 13.  8.  9.  8.]\n",
            " [ 8. 10.  9. 10. 10.  9.  2.  8.  7.  8.]\n",
            " [ 5.  8.  4. 20.  9. 22.  7. 10. 20. 10.]\n",
            " [ 7.  9. 10.  4. 13. 13.  9. 20. 13.  9.]]\n",
            "5\n",
            "individual means - \n",
            "[10.2  8.8  8.1 11.5 10.7]\n",
            "individual means - \n",
            "[10.2  8.8  8.1 11.5 10.7]\n",
            "sorted array of means -  [ 8.1  8.8 10.2 10.7 11.5]\n",
            "data mean -  9.86\n",
            "8.17 11.42\n",
            "8.38 11.18\n"
          ]
        }
      ]
    },
    {
      "cell_type": "code",
      "source": [
        "# Checking the notes from the lecture, create here your own bootstrap function:\n",
        "# 1. Sample from the input array x to create an array of samples of shape (n_bootstraps, sample_size)\n",
        "# Hint: Check the function random.choice() on Numpy\n",
        "# 2. Calculate and save the mean of the array (this is \"data_mean\" that is returned by the function)\n",
        "# 3. Calculate the mean from each bootstrap (i.e., row) and store it.\n",
        "# (This should be an array of n_bootstraps values)\n",
        "# 4. Calculate the lower and upper bounds for a 95% CI (hint: check the percentile function on Numpy)\n",
        "# 5. Return data_mean, and the lower and upper bounds of your interval\n",
        "def bootstrap_mean(x, sample_size, n_bootstraps):\n",
        "\td_array = np.random.choice(x,size=(n_bootstraps,sample_size))\n",
        "\td_mean_arr = d_array.mean(axis = 1)\n",
        "\td_mean_arr_sort = np.sort(d_mean_arr)\n",
        "\tdata_mean = np.mean(d_mean_arr_sort)\n",
        "\tlower = np.percentile(d_mean_arr_sort, 2.5)\n",
        "\tupper = np.percentile(d_mean_arr_sort, 97.5)\n",
        "\treturn data_mean, lower, upper"
      ],
      "metadata": {
        "id": "vymldsSBrN1j"
      },
      "execution_count": 5,
      "outputs": []
    },
    {
      "cell_type": "code",
      "source": [
        "# Call your bootstrap function and plot the results\n",
        "\n",
        "boots = []\n",
        "for i in range(100, 50000, 1000):\n",
        "    boot = bootstrap_mean(all_data_customer, all_data_customer.shape[0], i)\n",
        "    boots.append([i, boot[0], \"mean\"])\n",
        "    boots.append([i, boot[1], \"lower\"])\n",
        "    boots.append([i, boot[2], \"upper\"])\n",
        "\n",
        "df_boot = pd.DataFrame(boots, columns=['Bootstrap Iterations', 'Mean', \"Value\"])\n",
        "sns_plot = sns.lmplot(df_boot.columns[0], df_boot.columns[1], data=df_boot, fit_reg=False, hue=\"Value\")\n",
        "\n",
        "sns_plot.axes[0, 0].set_ylim(0,)\n",
        "sns_plot.axes[0, 0].set_xlim(0, 50000)"
      ],
      "metadata": {
        "colab": {
          "base_uri": "https://localhost:8080/",
          "height": 442
        },
        "id": "Ysc_tWidrPlD",
        "outputId": "8e45ca86-6f3a-4839-f520-fb3f25c01c77"
      },
      "execution_count": 6,
      "outputs": [
        {
          "output_type": "stream",
          "name": "stderr",
          "text": [
            "/usr/local/lib/python3.7/dist-packages/seaborn/_decorators.py:43: FutureWarning: Pass the following variables as keyword args: x, y. From version 0.12, the only valid positional argument will be `data`, and passing other arguments without an explicit keyword will result in an error or misinterpretation.\n",
            "  FutureWarning\n"
          ]
        },
        {
          "output_type": "execute_result",
          "data": {
            "text/plain": [
              "(0.0, 50000.0)"
            ]
          },
          "metadata": {},
          "execution_count": 6
        },
        {
          "output_type": "display_data",
          "data": {
            "text/plain": [
              "<Figure size 425.125x360 with 1 Axes>"
            ],
            "image/png": "[encoded data removed]"
          },
          "metadata": {
            "needs_background": "light"
          }
        }
      ]
    },
    {
      "cell_type": "markdown",
      "source": [
        "Now, modify the bootstrap function you created above so that you can pass your desired confidence interval as a parameter.\n",
        "\n"
      ],
      "metadata": {
        "id": "xsptx6_g5W-7"
      }
    },
    {
      "cell_type": "code",
      "source": [
        "#     d_mean_arr = d_array.mean(axis = 1, skipna = True)\n",
        "def bootstrap_mean_ci(sample, sample_size, n_bootstraps, ci):\n",
        "\t# <---INSERT YOUR CODE HERE--->\n",
        "    d_array = np.random.choice(sample,size=(n_bootstraps,sample_size))\n",
        "    d_mean_arr = np.nanmean(d_array, axis=1)\n",
        "    d_mean_arr_sort = np.sort(d_mean_arr)\n",
        "    data_mean = np.mean(d_mean_arr_sort)\n",
        "    lower_ci = (100-ci)/2\n",
        "    upper_ci = 100-lower_ci\n",
        "    lower = np.percentile(d_mean_arr_sort, lower_ci)\n",
        "    upper = np.percentile(d_mean_arr_sort, upper_ci)\n",
        "    return data_mean, lower, upper"
      ],
      "metadata": {
        "id": "X-jTViLm-lKK"
      },
      "execution_count": 7,
      "outputs": []
    },
    {
      "cell_type": "markdown",
      "source": [
        "Standard deviation bootstrap function..."
      ],
      "metadata": {
        "id": "OMA8YfrJFjAX"
      }
    },
    {
      "cell_type": "code",
      "source": [
        "def bootstrap_sd_ci(sample, sample_size, n_bootstraps, ci):\n",
        "\t# <---INSERT YOUR CODE HERE--->\n",
        "    d_array = np.random.choice(sample,size=(n_bootstraps,sample_size))\n",
        "    d_std_arr = np.std(d_array, axis=1)\n",
        "    d_std_arr_sort = np.sort(d_std_arr)\n",
        "    data_std = np.std(d_std_arr_sort)\n",
        "    lower_ci = (100-ci)/2\n",
        "    upper_ci = 100-lower_ci\n",
        "    lower = np.percentile(d_std_arr_sort, lower_ci)\n",
        "    upper = np.percentile(d_std_arr_sort, upper_ci)\n",
        "    return data_std, lower, upper"
      ],
      "metadata": {
        "id": "dnaN4bDoFlpa"
      },
      "execution_count": 8,
      "outputs": []
    },
    {
      "cell_type": "code",
      "source": [
        "boots = []\n",
        "for i in range(100, 50000, 1000):\n",
        "    boot = bootstrap_mean_ci(all_data_customer, all_data_customer.shape[0], i, 80)\n",
        "    boots.append([i, boot[0], \"mean\"])\n",
        "    boots.append([i, boot[1], \"lower\"])\n",
        "    boots.append([i, boot[2], \"upper\"])\n",
        "\n",
        "df_boot = pd.DataFrame(boots, columns=['Boostrap Iterations', 'Mean', \"Value\"])\n",
        "sns_plot = sns.lmplot(df_boot.columns[0], df_boot.columns[1], data=df_boot, fit_reg=False, hue=\"Value\")\n",
        "\n",
        "sns_plot.axes[0, 0].set_ylim(0,)\n",
        "sns_plot.axes[0, 0].set_xlim(0, 50000)\n",
        "\n",
        "#sns_plot.savefig(\"bootstrap_confidence_80.pdf\", bbox_inches='tight')"
      ],
      "metadata": {
        "colab": {
          "base_uri": "https://localhost:8080/",
          "height": 442
        },
        "id": "5ypqb2H1sky1",
        "outputId": "3fc234ba-f6da-419f-f1d0-0a86a630b593"
      },
      "execution_count": 9,
      "outputs": [
        {
          "output_type": "stream",
          "name": "stderr",
          "text": [
            "/usr/local/lib/python3.7/dist-packages/seaborn/_decorators.py:43: FutureWarning: Pass the following variables as keyword args: x, y. From version 0.12, the only valid positional argument will be `data`, and passing other arguments without an explicit keyword will result in an error or misinterpretation.\n",
            "  FutureWarning\n"
          ]
        },
        {
          "output_type": "execute_result",
          "data": {
            "text/plain": [
              "(0.0, 50000.0)"
            ]
          },
          "metadata": {},
          "execution_count": 9
        },
        {
          "output_type": "display_data",
          "data": {
            "text/plain": [
              "<Figure size 425.125x360 with 1 Axes>"
            ],
            "image/png": "[encoded data removed]"
          },
          "metadata": {
            "needs_background": "light"
          }
        }
      ]
    },
    {
      "cell_type": "code",
      "source": [
        "df_boot"
      ],
      "metadata": {
        "colab": {
          "base_uri": "https://localhost:8080/",
          "height": 423
        },
        "id": "sjrF1VDX-7bc",
        "outputId": "393411e1-d184-4bdf-8b30-806b195ade51"
      },
      "execution_count": 10,
      "outputs": [
        {
          "output_type": "execute_result",
          "data": {
            "text/plain": [
              "     Boostrap Iterations       Mean  Value\n",
              "0                    100   9.300000   mean\n",
              "1                    100   7.357143  lower\n",
              "2                    100  11.642857  upper\n",
              "3                   1100   9.235000   mean\n",
              "4                   1100   7.357143  lower\n",
              "..                   ...        ...    ...\n",
              "145                48100   7.285714  lower\n",
              "146                48100  11.214286  upper\n",
              "147                49100   9.212069   mean\n",
              "148                49100   7.285714  lower\n",
              "149                49100  11.214286  upper\n",
              "\n",
              "[150 rows x 3 columns]"
            ],
            "text/html": [
              "\n",
              "  <div id=\"df-005734f5-ea5e-47dd-a535-88d6979fffa9\">\n",
              "    <div class=\"colab-df-container\">\n",
              "      <div>\n",
              "<style scoped>\n",
              "    .dataframe tbody tr th:only-of-type {\n",
              "        vertical-align: middle;\n",
              "    }\n",
              "\n",
              "    .dataframe tbody tr th {\n",
              "        vertical-align: top;\n",
              "    }\n",
              "\n",
              "    .dataframe thead th {\n",
              "        text-align: right;\n",
              "    }\n",
              "</style>\n",
              "<table border=\"1\" class=\"dataframe\">\n",
              "  <thead>\n",
              "    <tr style=\"text-align: right;\">\n",
              "      <th></th>\n",
              "      <th>Boostrap Iterations</th>\n",
              "      <th>Mean</th>\n",
              "      <th>Value</th>\n",
              "    </tr>\n",
              "  </thead>\n",
              "  <tbody>\n",
              "    <tr>\n",
              "      <th>0</th>\n",
              "      <td>100</td>\n",
              "      <td>9.300000</td>\n",
              "      <td>mean</td>\n",
              "    </tr>\n",
              "    <tr>\n",
              "      <th>1</th>\n",
              "      <td>100</td>\n",
              "      <td>7.357143</td>\n",
              "      <td>lower</td>\n",
              "    </tr>\n",
              "    <tr>\n",
              "      <th>2</th>\n",
              "      <td>100</td>\n",
              "      <td>11.642857</td>\n",
              "      <td>upper</td>\n",
              "    </tr>\n",
              "    <tr>\n",
              "      <th>3</th>\n",
              "      <td>1100</td>\n",
              "      <td>9.235000</td>\n",
              "      <td>mean</td>\n",
              "    </tr>\n",
              "    <tr>\n",
              "      <th>4</th>\n",
              "      <td>1100</td>\n",
              "      <td>7.357143</td>\n",
              "      <td>lower</td>\n",
              "    </tr>\n",
              "    <tr>\n",
              "      <th>...</th>\n",
              "      <td>...</td>\n",
              "      <td>...</td>\n",
              "      <td>...</td>\n",
              "    </tr>\n",
              "    <tr>\n",
              "      <th>145</th>\n",
              "      <td>48100</td>\n",
              "      <td>7.285714</td>\n",
              "      <td>lower</td>\n",
              "    </tr>\n",
              "    <tr>\n",
              "      <th>146</th>\n",
              "      <td>48100</td>\n",
              "      <td>11.214286</td>\n",
              "      <td>upper</td>\n",
              "    </tr>\n",
              "    <tr>\n",
              "      <th>147</th>\n",
              "      <td>49100</td>\n",
              "      <td>9.212069</td>\n",
              "      <td>mean</td>\n",
              "    </tr>\n",
              "    <tr>\n",
              "      <th>148</th>\n",
              "      <td>49100</td>\n",
              "      <td>7.285714</td>\n",
              "      <td>lower</td>\n",
              "    </tr>\n",
              "    <tr>\n",
              "      <th>149</th>\n",
              "      <td>49100</td>\n",
              "      <td>11.214286</td>\n",
              "      <td>upper</td>\n",
              "    </tr>\n",
              "  </tbody>\n",
              "</table>\n",
              "<p>150 rows × 3 columns</p>\n",
              "</div>\n",
              "      <button class=\"colab-df-convert\" onclick=\"convertToInteractive('df-005734f5-ea5e-47dd-a535-88d6979fffa9')\"\n",
              "              title=\"Convert this dataframe to an interactive table.\"\n",
              "              style=\"display:none;\">\n",
              "        \n",
              "  <svg xmlns=\"http://www.w3.org/2000/svg\" height=\"24px\"viewBox=\"0 0 24 24\"\n",
              "       width=\"24px\">\n",
              "    <path d=\"M0 0h24v24H0V0z\" fill=\"none\"/>\n",
              "    <path d=\"M18.56 5.44l.94 2.06.94-2.06 2.06-.94-2.06-.94-.94-2.06-.94 2.06-2.06.94zm-11 1L8.5 8.5l.94-2.06 2.06-.94-2.06-.94L8.5 2.5l-.94 2.06-2.06.94zm10 10l.94 2.06.94-2.06 2.06-.94-2.06-.94-.94-2.06-.94 2.06-2.06.94z\"/><path d=\"M17.41 7.96l-1.37-1.37c-.4-.4-.92-.59-1.43-.59-.52 0-1.04.2-1.43.59L10.3 9.45l-7.72 7.72c-.78.78-.78 2.05 0 2.83L4 21.41c.39.39.9.59 1.41.59.51 0 1.02-.2 1.41-.59l7.78-7.78 2.81-2.81c.8-.78.8-2.07 0-2.86zM5.41 20L4 18.59l7.72-7.72 1.47 1.35L5.41 20z\"/>\n",
              "  </svg>\n",
              "      </button>\n",
              "      \n",
              "  <style>\n",
              "    .colab-df-container {\n",
              "      display:flex;\n",
              "      flex-wrap:wrap;\n",
              "      gap: 12px;\n",
              "    }\n",
              "\n",
              "    .colab-df-convert {\n",
              "      background-color: #E8F0FE;\n",
              "      border: none;\n",
              "      border-radius: 50%;\n",
              "      cursor: pointer;\n",
              "      display: none;\n",
              "      fill: #1967D2;\n",
              "      height: 32px;\n",
              "      padding: 0 0 0 0;\n",
              "      width: 32px;\n",
              "    }\n",
              "\n",
              "    .colab-df-convert:hover {\n",
              "      background-color: #E2EBFA;\n",
              "      box-shadow: 0px 1px 2px rgba(60, 64, 67, 0.3), 0px 1px 3px 1px rgba(60, 64, 67, 0.15);\n",
              "      fill: #174EA6;\n",
              "    }\n",
              "\n",
              "    [theme=dark] .colab-df-convert {\n",
              "      background-color: #3B4455;\n",
              "      fill: #D2E3FC;\n",
              "    }\n",
              "\n",
              "    [theme=dark] .colab-df-convert:hover {\n",
              "      background-color: #434B5C;\n",
              "      box-shadow: 0px 1px 3px 1px rgba(0, 0, 0, 0.15);\n",
              "      filter: drop-shadow(0px 1px 2px rgba(0, 0, 0, 0.3));\n",
              "      fill: #FFFFFF;\n",
              "    }\n",
              "  </style>\n",
              "\n",
              "      <script>\n",
              "        const buttonEl =\n",
              "          document.querySelector('#df-005734f5-ea5e-47dd-a535-88d6979fffa9 button.colab-df-convert');\n",
              "        buttonEl.style.display =\n",
              "          google.colab.kernel.accessAllowed ? 'block' : 'none';\n",
              "\n",
              "        async function convertToInteractive(key) {\n",
              "          const element = document.querySelector('#df-005734f5-ea5e-47dd-a535-88d6979fffa9');\n",
              "          const dataTable =\n",
              "            await google.colab.kernel.invokeFunction('convertToInteractive',\n",
              "                                                     [key], {});\n",
              "          if (!dataTable) return;\n",
              "\n",
              "          const docLinkHtml = 'Like what you see? Visit the ' +\n",
              "            '<a target=\"_blank\" href=https://colab.research.google.com/notebooks/data_table.ipynb>data table notebook</a>'\n",
              "            + ' to learn more about interactive tables.';\n",
              "          element.innerHTML = '';\n",
              "          dataTable['output_type'] = 'display_data';\n",
              "          await google.colab.output.renderOutput(dataTable, element);\n",
              "          const docLink = document.createElement('div');\n",
              "          docLink.innerHTML = docLinkHtml;\n",
              "          element.appendChild(docLink);\n",
              "        }\n",
              "      </script>\n",
              "    </div>\n",
              "  </div>\n",
              "  "
            ]
          },
          "metadata": {},
          "execution_count": 10
        }
      ]
    },
    {
      "cell_type": "markdown",
      "source": [
        "#Vehicles dataset"
      ],
      "metadata": {
        "id": "ybVhOhPS5fKz"
      }
    },
    {
      "cell_type": "markdown",
      "source": [
        "Now let's work on a different dataset, which is stored in the vehicles.csv file."
      ],
      "metadata": {
        "id": "wvXP6-BQ5lsh"
      }
    },
    {
      "cell_type": "code",
      "source": [
        "# Load and visualise the vehicles dataset\n",
        "# To load the dataset: https://neptune.ai/blog/google-colab-dealing-with-files (check section \"Load individual files directly from GitHub\")\n",
        "df_vehicles = pd.read_csv('https://raw.githubusercontent.com/albanda/CE888/master/lab2%20-%20bootstrap/vehicles.csv')\n",
        "df_vehicles.insert(0, 'Car_ID', range(1, 1 + len(df_vehicles)))\n",
        "\n",
        "\n",
        "# Note that the current and new fleets are in different columns and have different lengths, so bear this in mind when you're plotting.\n",
        "# You can create separate scatterplots for the two fleets, as you would with the histograms, \n",
        "# or plot them both in one plot (but not one against the other).\n",
        "# <---INSERT YOUR CODE HERE--->\n",
        "sns.lmplot(df_vehicles.columns[0], df_vehicles.columns[1], data=df_vehicles, fit_reg=False)\n",
        "sns.lmplot(df_vehicles.columns[0], df_vehicles.columns[2], data=df_vehicles, fit_reg=False)\n",
        "# Note: you can add more cells as needed to organise your code and your plots\n",
        "df_vehicles"
      ],
      "metadata": {
        "id": "kQt3Uo2419j_",
        "colab": {
          "base_uri": "https://localhost:8080/",
          "height": 1000
        },
        "outputId": "43ef932a-4e1a-4f9f-e085-af52760fe929"
      },
      "execution_count": 11,
      "outputs": [
        {
          "output_type": "stream",
          "name": "stderr",
          "text": [
            "/usr/local/lib/python3.7/dist-packages/seaborn/_decorators.py:43: FutureWarning: Pass the following variables as keyword args: x, y. From version 0.12, the only valid positional argument will be `data`, and passing other arguments without an explicit keyword will result in an error or misinterpretation.\n",
            "  FutureWarning\n",
            "/usr/local/lib/python3.7/dist-packages/seaborn/_decorators.py:43: FutureWarning: Pass the following variables as keyword args: x, y. From version 0.12, the only valid positional argument will be `data`, and passing other arguments without an explicit keyword will result in an error or misinterpretation.\n",
            "  FutureWarning\n"
          ]
        },
        {
          "output_type": "execute_result",
          "data": {
            "text/plain": [
              "     Car_ID  Current fleet  New Fleet\n",
              "0         1             18       24.0\n",
              "1         2             15       27.0\n",
              "2         3             18       27.0\n",
              "3         4             16       25.0\n",
              "4         5             17       31.0\n",
              "..      ...            ...        ...\n",
              "244     245             27        NaN\n",
              "245     246             27        NaN\n",
              "246     247             32        NaN\n",
              "247     248             28        NaN\n",
              "248     249             31        NaN\n",
              "\n",
              "[249 rows x 3 columns]"
            ],
            "text/html": [
              "\n",
              "  <div id=\"df-366084d4-cd59-4ae3-9b3d-d8c06114b28d\">\n",
              "    <div class=\"colab-df-container\">\n",
              "      <div>\n",
              "<style scoped>\n",
              "    .dataframe tbody tr th:only-of-type {\n",
              "        vertical-align: middle;\n",
              "    }\n",
              "\n",
              "    .dataframe tbody tr th {\n",
              "        vertical-align: top;\n",
              "    }\n",
              "\n",
              "    .dataframe thead th {\n",
              "        text-align: right;\n",
              "    }\n",
              "</style>\n",
              "<table border=\"1\" class=\"dataframe\">\n",
              "  <thead>\n",
              "    <tr style=\"text-align: right;\">\n",
              "      <th></th>\n",
              "      <th>Car_ID</th>\n",
              "      <th>Current fleet</th>\n",
              "      <th>New Fleet</th>\n",
              "    </tr>\n",
              "  </thead>\n",
              "  <tbody>\n",
              "    <tr>\n",
              "      <th>0</th>\n",
              "      <td>1</td>\n",
              "      <td>18</td>\n",
              "      <td>24.0</td>\n",
              "    </tr>\n",
              "    <tr>\n",
              "      <th>1</th>\n",
              "      <td>2</td>\n",
              "      <td>15</td>\n",
              "      <td>27.0</td>\n",
              "    </tr>\n",
              "    <tr>\n",
              "      <th>2</th>\n",
              "      <td>3</td>\n",
              "      <td>18</td>\n",
              "      <td>27.0</td>\n",
              "    </tr>\n",
              "    <tr>\n",
              "      <th>3</th>\n",
              "      <td>4</td>\n",
              "      <td>16</td>\n",
              "      <td>25.0</td>\n",
              "    </tr>\n",
              "    <tr>\n",
              "      <th>4</th>\n",
              "      <td>5</td>\n",
              "      <td>17</td>\n",
              "      <td>31.0</td>\n",
              "    </tr>\n",
              "    <tr>\n",
              "      <th>...</th>\n",
              "      <td>...</td>\n",
              "      <td>...</td>\n",
              "      <td>...</td>\n",
              "    </tr>\n",
              "    <tr>\n",
              "      <th>244</th>\n",
              "      <td>245</td>\n",
              "      <td>27</td>\n",
              "      <td>NaN</td>\n",
              "    </tr>\n",
              "    <tr>\n",
              "      <th>245</th>\n",
              "      <td>246</td>\n",
              "      <td>27</td>\n",
              "      <td>NaN</td>\n",
              "    </tr>\n",
              "    <tr>\n",
              "      <th>246</th>\n",
              "      <td>247</td>\n",
              "      <td>32</td>\n",
              "      <td>NaN</td>\n",
              "    </tr>\n",
              "    <tr>\n",
              "      <th>247</th>\n",
              "      <td>248</td>\n",
              "      <td>28</td>\n",
              "      <td>NaN</td>\n",
              "    </tr>\n",
              "    <tr>\n",
              "      <th>248</th>\n",
              "      <td>249</td>\n",
              "      <td>31</td>\n",
              "      <td>NaN</td>\n",
              "    </tr>\n",
              "  </tbody>\n",
              "</table>\n",
              "<p>249 rows × 3 columns</p>\n",
              "</div>\n",
              "      <button class=\"colab-df-convert\" onclick=\"convertToInteractive('df-366084d4-cd59-4ae3-9b3d-d8c06114b28d')\"\n",
              "              title=\"Convert this dataframe to an interactive table.\"\n",
              "              style=\"display:none;\">\n",
              "        \n",
              "  <svg xmlns=\"http://www.w3.org/2000/svg\" height=\"24px\"viewBox=\"0 0 24 24\"\n",
              "       width=\"24px\">\n",
              "    <path d=\"M0 0h24v24H0V0z\" fill=\"none\"/>\n",
              "    <path d=\"M18.56 5.44l.94 2.06.94-2.06 2.06-.94-2.06-.94-.94-2.06-.94 2.06-2.06.94zm-11 1L8.5 8.5l.94-2.06 2.06-.94-2.06-.94L8.5 2.5l-.94 2.06-2.06.94zm10 10l.94 2.06.94-2.06 2.06-.94-2.06-.94-.94-2.06-.94 2.06-2.06.94z\"/><path d=\"M17.41 7.96l-1.37-1.37c-.4-.4-.92-.59-1.43-.59-.52 0-1.04.2-1.43.59L10.3 9.45l-7.72 7.72c-.78.78-.78 2.05 0 2.83L4 21.41c.39.39.9.59 1.41.59.51 0 1.02-.2 1.41-.59l7.78-7.78 2.81-2.81c.8-.78.8-2.07 0-2.86zM5.41 20L4 18.59l7.72-7.72 1.47 1.35L5.41 20z\"/>\n",
              "  </svg>\n",
              "      </button>\n",
              "      \n",
              "  <style>\n",
              "    .colab-df-container {\n",
              "      display:flex;\n",
              "      flex-wrap:wrap;\n",
              "      gap: 12px;\n",
              "    }\n",
              "\n",
              "    .colab-df-convert {\n",
              "      background-color: #E8F0FE;\n",
              "      border: none;\n",
              "      border-radius: 50%;\n",
              "      cursor: pointer;\n",
              "      display: none;\n",
              "      fill: #1967D2;\n",
              "      height: 32px;\n",
              "      padding: 0 0 0 0;\n",
              "      width: 32px;\n",
              "    }\n",
              "\n",
              "    .colab-df-convert:hover {\n",
              "      background-color: #E2EBFA;\n",
              "      box-shadow: 0px 1px 2px rgba(60, 64, 67, 0.3), 0px 1px 3px 1px rgba(60, 64, 67, 0.15);\n",
              "      fill: #174EA6;\n",
              "    }\n",
              "\n",
              "    [theme=dark] .colab-df-convert {\n",
              "      background-color: #3B4455;\n",
              "      fill: #D2E3FC;\n",
              "    }\n",
              "\n",
              "    [theme=dark] .colab-df-convert:hover {\n",
              "      background-color: #434B5C;\n",
              "      box-shadow: 0px 1px 3px 1px rgba(0, 0, 0, 0.15);\n",
              "      filter: drop-shadow(0px 1px 2px rgba(0, 0, 0, 0.3));\n",
              "      fill: #FFFFFF;\n",
              "    }\n",
              "  </style>\n",
              "\n",
              "      <script>\n",
              "        const buttonEl =\n",
              "          document.querySelector('#df-366084d4-cd59-4ae3-9b3d-d8c06114b28d button.colab-df-convert');\n",
              "        buttonEl.style.display =\n",
              "          google.colab.kernel.accessAllowed ? 'block' : 'none';\n",
              "\n",
              "        async function convertToInteractive(key) {\n",
              "          const element = document.querySelector('#df-366084d4-cd59-4ae3-9b3d-d8c06114b28d');\n",
              "          const dataTable =\n",
              "            await google.colab.kernel.invokeFunction('convertToInteractive',\n",
              "                                                     [key], {});\n",
              "          if (!dataTable) return;\n",
              "\n",
              "          const docLinkHtml = 'Like what you see? Visit the ' +\n",
              "            '<a target=\"_blank\" href=https://colab.research.google.com/notebooks/data_table.ipynb>data table notebook</a>'\n",
              "            + ' to learn more about interactive tables.';\n",
              "          element.innerHTML = '';\n",
              "          dataTable['output_type'] = 'display_data';\n",
              "          await google.colab.output.renderOutput(dataTable, element);\n",
              "          const docLink = document.createElement('div');\n",
              "          docLink.innerHTML = docLinkHtml;\n",
              "          element.appendChild(docLink);\n",
              "        }\n",
              "      </script>\n",
              "    </div>\n",
              "  </div>\n",
              "  "
            ]
          },
          "metadata": {},
          "execution_count": 11
        },
        {
          "output_type": "display_data",
          "data": {
            "text/plain": [
              "<Figure size 360x360 with 1 Axes>"
            ],
            "image/png": "[encoded data removed]"
          },
          "metadata": {
            "needs_background": "light"
          }
        },
        {
          "output_type": "display_data",
          "data": {
            "text/plain": [
              "<Figure size 360x360 with 1 Axes>"
            ],
            "image/png": "[encoded data removed]"
          },
          "metadata": {
            "needs_background": "light"
          }
        }
      ]
    },
    {
      "cell_type": "markdown",
      "source": [
        "#Compare the two fleets\n"
      ],
      "metadata": {
        "id": "zaNlw6fg5s0Y"
      }
    },
    {
      "cell_type": "markdown",
      "source": [
        "The business analysts come up a comparison algorithm that requires the upper and lower bounds for the mean in order to say which fleet is better.\n",
        "\n",
        "Calculate the mean of both samples.\n",
        "Using the bootstrap function that you created:\n",
        "Construct the 95% CI of the mean of the current fleet.\n",
        "Construct the 95% CI of the mean of the new fleet.\n",
        "Are they comparable? (i.e., is one better than the other?) -- you can do this with a permutation test (check the lecture notes!)"
      ],
      "metadata": {
        "id": "MY-LuI8s5wUI"
      }
    },
    {
      "cell_type": "code",
      "source": [
        "# <---INSERT YOUR CODE HERE--->\n",
        "# 1. Calculate the mean of both samples.\n",
        "df_means = df_vehicles.mean(axis = 0, skipna = True)\n",
        "print(df_means)\n",
        "print(\"------\")\n",
        "# bootstrap_mean_ci(sample, sample_size, n_bootstraps, ci)\n",
        "data_mean_curr, lower_curr, upper_curr = bootstrap_mean_ci(df_vehicles.iloc[:,1], 15, 15, 95)\n",
        "print(data_mean_curr, lower_curr, upper_curr)\n",
        "print(\"------\")\n",
        "sample = df_vehicles.iloc[:,2].dropna()\n",
        "print(sample)\n",
        "data_mean_new, lower_new, upper_new = bootstrap_mean_ci(sample, 15, 10000, 80)\n",
        "print(data_mean_new, lower_new, upper_new)\n",
        "data_std_new, lower_new, upper_new = bootstrap_sd_ci(sample, 15, 10000, 99)\n",
        "print(data_std_new, lower_new, upper_new)"
      ],
      "metadata": {
        "id": "_Ry0fS0f1_GG",
        "colab": {
          "base_uri": "https://localhost:8080/"
        },
        "outputId": "92dbca7f-0bb7-495d-96f4-9ceacdb5cb7a"
      },
      "execution_count": 12,
      "outputs": [
        {
          "output_type": "stream",
          "name": "stdout",
          "text": [
            "Car_ID           125.000000\n",
            "Current fleet     20.144578\n",
            "New Fleet         30.481013\n",
            "dtype: float64\n",
            "------\n",
            "19.839999999999996 17.163333333333334 22.10333333333333\n",
            "------\n",
            "0     24.0\n",
            "1     27.0\n",
            "2     27.0\n",
            "3     25.0\n",
            "4     31.0\n",
            "      ... \n",
            "74    34.0\n",
            "75    38.0\n",
            "76    32.0\n",
            "77    38.0\n",
            "78    32.0\n",
            "Name: New Fleet, Length: 79, dtype: float64\n",
            "30.51343333333333 28.526666666666674 32.53333333333333\n",
            "1.0391547706018305 3.1999164485150846 8.547938009679644\n"
          ]
        }
      ]
    },
    {
      "cell_type": "code",
      "source": [
        "df_vehicles.iloc[:,1]"
      ],
      "metadata": {
        "colab": {
          "base_uri": "https://localhost:8080/"
        },
        "id": "VMe7t-2CDR10",
        "outputId": "3341483f-ab2b-4263-df40-7ba864bd53fd"
      },
      "execution_count": 13,
      "outputs": [
        {
          "output_type": "execute_result",
          "data": {
            "text/plain": [
              "0      18\n",
              "1      15\n",
              "2      18\n",
              "3      16\n",
              "4      17\n",
              "       ..\n",
              "244    27\n",
              "245    27\n",
              "246    32\n",
              "247    28\n",
              "248    31\n",
              "Name: Current fleet, Length: 249, dtype: int64"
            ]
          },
          "metadata": {},
          "execution_count": 13
        }
      ]
    },
    {
      "cell_type": "code",
      "source": [
        "# Create your own function for a permutation test here (you will need it for the lab quiz!):\n",
        "\n",
        "\n",
        "def permut_test(sample1, sample2, n_permutations):\n",
        "    \"\"\"\n",
        "    sample1: 1D array, old\n",
        "    sample2: 1D array (note that the size of the two arrays can be different), new\n",
        "    n_permutations: number of permutations to calculate the p-value\n",
        "    \"\"\"\n",
        "    tobs = np.mean(sample2)-np.mean(sample1)\n",
        "\n",
        "    concat = np.concatenate((sample1, sample2))\n",
        "    count=0    \n",
        "    for i in range(n_permutations):\n",
        "        perm = np.random.permutation(concat)\n",
        "        pold = perm[:int(len(perm)/2)]\n",
        "        pnew = perm[int(len(perm)/2):]\n",
        "        tperm = np.mean(pnew)-np.mean(pold)\n",
        "        if tperm>tobs:\n",
        "            count+=1\n",
        "    pvalue = count/n_permutations\n",
        "    return pvalue, tperm, tobs"
      ],
      "metadata": {
        "id": "0AVKgvWqBoI4"
      },
      "execution_count": 14,
      "outputs": []
    },
    {
      "cell_type": "code",
      "source": [
        "current_old_data = df_vehicles.iloc[:,1]\n",
        "new_data = df_vehicles.iloc[:,2].dropna()\n",
        "\n",
        "# sample1 = [0,0,0,1,1,1,1,1,0,0,0]\n",
        "# sample2 = [1,1,1,1,1,1,1,1,1,0,0,0,0,1,0,1,0]\n",
        "\n",
        "pvalue = permut_test(current_old_data, new_data, 30000)\n",
        "print(pvalue)"
      ],
      "metadata": {
        "id": "E5S59wZR52wO",
        "colab": {
          "base_uri": "https://localhost:8080/"
        },
        "outputId": "6a91301a-23fe-43b0-b7e1-d79d0542055f"
      },
      "execution_count": 15,
      "outputs": [
        {
          "output_type": "stream",
          "name": "stdout",
          "text": [
            "(0.0, -2.2682926829268304, 10.336434344974837)\n"
          ]
        }
      ]
    },
    {
      "cell_type": "markdown",
      "source": [
        "Voting data csv"
      ],
      "metadata": {
        "id": "XRFPz_0_T9R9"
      }
    },
    {
      "cell_type": "code",
      "source": [
        "dem_share_PA = [60.08, 40.64, 36.07, 41.21, 31.04, 43.78, 44.08, 46.85, 44.71, 46.15, 63.10, 52.20, 43.18, 40.24, 39.92, 47.87, 37.77, 40.11, 49.85, 48.61, 38.62, 54.25, 34.84, 47.75, 43.82, 55.97, 58.23, 42.97, 42.38, 36.11, 37.53, 42.65, 50.96, 47.43, 56.24, 45.60, 46.39, 35.22, 48.56, 32.97, 57.88, 36.05, 37.72, 50.36, 32.12, 41.55, 54.66, 57.81, 54.58, 32.88, 54.37, 40.45, 47.61, 60.49, 43.11, 27.32, 44.03, 33.56, 37.26, 54.64, 43.12, 25.34, 49.79, 83.56, 40.09, 60.81, 49.81]\n",
        "dem_share_OH = [56.94, 50.46, 65.99, 45.88, 42.23, 45.26, 57.01, 53.61, 59.10, 61.48, 43.43, 44.69, 54.59, 48.36, 45.89, 48.62, 43.92, 38.23, 28.79, 63.57, 38.07, 40.18, 43.05, 41.56, 42.49, 36.06, 52.76, 46.07, 39.43, 39.26, 47.47, 27.92, 38.01, 45.45, 29.07, 28.94, 51.28, 50.10, 39.84, 36.43, 35.71, 31.47, 47.01, 40.10, 48.76, 31.56, 39.86, 45.31, 35.47, 51.38, 46.33, 48.73, 41.77, 41.32, 48.46, 53.14, 34.01, 54.74, 40.67, 38.96, 46.29, 38.25, 6.80, 31.75, 46.33, 44.90, 33.57, 38.10, 39.67, 40.47, 49.44, 37.62, 36.71, 46.73, 42.20, 53.16, 52.40, 58.36, 68.02, 38.53, 34.58, 69.64, 60.50, 53.53, 36.54, 49.58, 41.97, 38.11]\n",
        "\n",
        "print(len(dem_share_PA))\n",
        "print(len(dem_share_OH))\n",
        "\n",
        "data_mean_new, lower_new, upper_new = bootstrap_mean_ci(dem_share_OH, 15, 20000, 95)\n",
        "print(data_mean_new, lower_new, upper_new)\n",
        "\n",
        "data_mean_new, lower_new, upper_new = bootstrap_mean_ci(dem_share_PA, 15, 20000, 95)\n",
        "print(data_mean_new, lower_new, upper_new)\n",
        "\n",
        "pvalue = permut_test(dem_share_PA, dem_share_OH, 10000)\n",
        "print(pvalue)"
      ],
      "metadata": {
        "colab": {
          "base_uri": "https://localhost:8080/"
        },
        "id": "3n0wzQ3KUBzn",
        "outputId": "78336818-a6b4-42c9-b4c9-95b6b8fce0ad"
      },
      "execution_count": 16,
      "outputs": [
        {
          "output_type": "stream",
          "name": "stdout",
          "text": [
            "67\n",
            "88\n",
            "44.307425099999996 39.28261666666666 49.288050000000005\n",
            "45.4257375 40.73663333333333 50.691449999999996\n",
            "(0.7653, 0.6372027972027894, -1.1582360922659447)\n"
          ]
        }
      ]
    },
    {
      "cell_type": "markdown",
      "source": [
        "# QUIZ2"
      ],
      "metadata": {
        "id": "UCXhSSiMoG_d"
      }
    },
    {
      "cell_type": "code",
      "source": [
        "# 1.When you reduce the confidence interval (e.g., from 95% to 80%), the range between the lower and upper limits...\n",
        "# ans: decreases"
      ],
      "metadata": {
        "id": "RxAR98Rbndvy"
      },
      "execution_count": 17,
      "outputs": []
    },
    {
      "cell_type": "code",
      "source": [
        "# 2.The 80% confidence interval for the mean of the old fleet in the vehicles dataset using 10000 iterations is (Answer, Answer). \n",
        "# Give your answer including the first two decimal points (e.g., 1.23).\n",
        "bootstrap_mean_ci(current_old_data,current_old_data.shape[0],10000,80)\n",
        "# ans: 19.44,20.86"
      ],
      "metadata": {
        "colab": {
          "base_uri": "https://localhost:8080/"
        },
        "id": "roio2Lr2pB5L",
        "outputId": "f57b623a-b253-4214-8bef-0372bd878343"
      },
      "execution_count": 28,
      "outputs": [
        {
          "output_type": "execute_result",
          "data": {
            "text/plain": [
              "(20.143093172690765, 19.630522088353413, 20.662650602409638)"
            ]
          },
          "metadata": {},
          "execution_count": 28
        }
      ]
    },
    {
      "cell_type": "code",
      "source": [
        "# 3.The 90% confidence interval for the mean of the new fleet in the vehicles dataset using 10000 iterations is (Answer, Answer). \n",
        "# Give your answer including the first two decimal points (e.g., 1.23).\n",
        "bootstrap_mean_ci(all_data_customer,all_data_customer.shape[0],10000,90)\n",
        "# ans: 29.58,31.34"
      ],
      "metadata": {
        "colab": {
          "base_uri": "https://localhost:8080/"
        },
        "id": "BRh_3hGIpTlW",
        "outputId": "63146b50-1b26-49b3-a5f3-df661c1fa3ec"
      },
      "execution_count": 30,
      "outputs": [
        {
          "output_type": "execute_result",
          "data": {
            "text/plain": [
              "(9.193407142857142, 6.857142857142857, 11.785714285714286)"
            ]
          },
          "metadata": {},
          "execution_count": 30
        }
      ]
    },
    {
      "cell_type": "code",
      "source": [
        "# 4.The 90% confidence interval for the standard deviation of the customers dataset using 10000 iterations is (Answer, Answer). \n",
        "# Give your answer including the first two decimal points (e.g., 1.23).\n",
        "bootstrap_sd_ci(all_data_customer,all_data_customer.shape[0],10000,90)\n",
        "# ans: 3.01,7.09"
      ],
      "metadata": {
        "colab": {
          "base_uri": "https://localhost:8080/"
        },
        "id": "3t4y1CM9rdIb",
        "outputId": "36477acc-6e35-4559-a36b-ed7212c56cd5"
      },
      "execution_count": 21,
      "outputs": [
        {
          "output_type": "execute_result",
          "data": {
            "text/plain": [
              "(1.1988151401891463, 3.017762038522982, 7.098433285031339)"
            ]
          },
          "metadata": {},
          "execution_count": 21
        }
      ]
    },
    {
      "cell_type": "code",
      "source": [
        "# 5.The 73% confidence interval for the standard deviation of the old fleet in the vehicles dataset using 10000 iterations is (Answer, Answer)\n",
        "# Give your answer including the first two decimal points (e.g., 1.23).\n",
        "bootstrap_sd_ci(current_old_data,current_old_data.shape[0],10000,95)\n",
        "# ans: 5.62,7.10"
      ],
      "metadata": {
        "colab": {
          "base_uri": "https://localhost:8080/"
        },
        "id": "xh1XhfPNqTA1",
        "outputId": "3a95d071-62eb-478e-f943-8cca320b0100"
      },
      "execution_count": 31,
      "outputs": [
        {
          "output_type": "execute_result",
          "data": {
            "text/plain": [
              "(0.2883787773151432, 5.813650303298748, 6.94933624901966)"
            ]
          },
          "metadata": {},
          "execution_count": 31
        }
      ]
    },
    {
      "cell_type": "code",
      "source": [
        "# 5.The 73% confidence interval for the standard deviation of the old fleet in the vehicles dataset using 10000 iterations is (Answer, Answer)\n",
        "# Give your answer including the first two decimal points (e.g., 1.23).\n",
        "bootstrap_sd_ci(current_old_data,current_old_data.shape[0],10000,73)\n",
        "# ans: 5.62,7.10"
      ],
      "metadata": {
        "colab": {
          "base_uri": "https://localhost:8080/"
        },
        "id": "UG55ieRBxPFM",
        "outputId": "57325f95-955f-4e75-d6eb-59b87be1d0e9"
      },
      "execution_count": 32,
      "outputs": [
        {
          "output_type": "execute_result",
          "data": {
            "text/plain": [
              "(0.29163191135677147, 6.06018529912152, 6.69880211453969)"
            ]
          },
          "metadata": {},
          "execution_count": 32
        }
      ]
    },
    {
      "cell_type": "code",
      "source": [
        "# 6.Assume that you are comparing the difference in means between two sets of data through a permutation test, which has given you a p value. \n",
        "# If the significance level has been fixed at 0.05, which of the following statements are true?\n",
        "# ans: \n",
        "# 6.1.If p > 0.1, there is no difference between the two sets of data.\n",
        "# 6.2.If p < 0.05, the two sets of data are statistically different.\n",
        "# 6.3.If p < 0.05, we reject the null hypothesis."
      ],
      "metadata": {
        "id": "jT7iNjMjsYLQ"
      },
      "execution_count": 22,
      "outputs": []
    },
    {
      "cell_type": "code",
      "source": [
        "# 7.1.Using the data from the vehicles.csv file:\n",
        "# We want to know whether the new fleet is better than the old one (i.e., if the difference in the means is positive).\n",
        "# The Null hypothesis is:\n",
        "# ans:There is no difference between the mean MPG between the old and the new fleet\n",
        "# 7.2.The alternative hypothesis is\n",
        "# The mean MPG in the new fleet is larger than the mean MPG for the old fleet\n",
        "permut_test(current_old_data, new_data, 30000)\n",
        "# 7.3. The p-value from a permutation test with 30000 permutations is Answer (give 3 decimal points, e.g., 0.456). Since this value is Answer\n",
        "# มากกว่า0.01รึป่าว?\n",
        "# ถ้าน้อยกว่าReject the Null hypothesis(Type I error) มากกว่า Fail to reject the Null hypothesis(Type II error)\n",
        "#  0.01 (our significance level), we ...\n",
        "# ans: 0, <, Reject the Null hypothesis\n",
        "# 7.4.If an error had occurred in our inference above, what type of error would it be? \n",
        "# ans: Type I error\n"
      ],
      "metadata": {
        "colab": {
          "base_uri": "https://localhost:8080/"
        },
        "id": "qKc7HwjguUWu",
        "outputId": "5e188bd6-1439-43b7-92c1-68b55683d7d9"
      },
      "execution_count": 23,
      "outputs": [
        {
          "output_type": "execute_result",
          "data": {
            "text/plain": [
              "(0.0, -0.04878048780487987, 10.336434344974837)"
            ]
          },
          "metadata": {},
          "execution_count": 23
        }
      ]
    },
    {
      "cell_type": "code",
      "source": [
        "# 8.1.The data for this question is in voting_data.py.\n",
        "# The file contains data for the 2008 US presidential election results from the “swing states” of PA and OH, specifically, \n",
        "# the percentage of voters who voted for the Democrats within each county in a given state. There are Answer\n",
        "# values (i.e., states) in PA and Answer in OH.\n",
        "# print(len(dem_share_PA))\n",
        "# print(len(dem_share_OH))\n",
        "# ans: 67,88\n",
        "\n",
        "# 8.2.We want to know whether voters in PA were more likely than voters in OH to support the Democratic candidate.\n",
        "# The Null hypothesis is:\n",
        "# ans: There is no difference between the mean votes for PA and OH\n",
        "# The alternative hypothesis is\n",
        "# ans:The mean in PA voting is larger than the mean in OH voting\n",
        "\n",
        "\n",
        "\n",
        "# 8.3.The 90% confidence intervals for the means of the votes using 100000 bootstraps are (give two decimal values, e.g., 1.23):\n",
        "\n",
        "# For OH: (Answer, Answer)\n",
        "# bootstrap_mean_ci(dem_share_OH, np.shape(dem_share_OH)[0], 100000, 98)\n",
        "\n",
        "# For PA: (Answer, Answer)\n",
        "# bootstrap_mean_ci(dem_share_PA, np.shape(dem_share_PA)[0], 100000, 98)\n",
        "# ans: 43.17,47.86\n",
        "\n",
        "\n",
        "# 8.4.The p-value from a permutation test with 10000 permutations is Answer\n",
        "#  (give 3 decimal points, e.g., 0.456). Since this value is Answer\n",
        "#  0.05 (our significance level), we ...\n",
        "permut_test(dem_share_OH, dem_share_PA, 30000)\n",
        "\n",
        "# \n"
      ],
      "metadata": {
        "id": "ZoZ9F5kVvhM3",
        "colab": {
          "base_uri": "https://localhost:8080/"
        },
        "outputId": "2f6fcdac-44f0-4ab9-d3e5-8dc5ef14649f"
      },
      "execution_count": 36,
      "outputs": [
        {
          "output_type": "execute_result",
          "data": {
            "text/plain": [
              "(0.2334, -0.5393623043622995, 1.1582360922659447)"
            ]
          },
          "metadata": {},
          "execution_count": 36
        }
      ]
    },
    {
      "cell_type": "code",
      "source": [
        ""
      ],
      "metadata": {
        "id": "1CM40T1XxbQt"
      },
      "execution_count": 24,
      "outputs": []
    }
  ]
}